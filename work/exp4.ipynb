{
 "cells": [
  {
   "cell_type": "code",
   "execution_count": 4,
   "id": "56d711ae",
   "metadata": {},
   "outputs": [],
   "source": [
    "import numpy as np\n",
    "import matplotlib.pyplot as plt"
   ]
  },
  {
   "cell_type": "code",
   "execution_count": 5,
   "id": "6c327c3d",
   "metadata": {},
   "outputs": [],
   "source": [
    "from qucat import Network,GUI,L,J,C,R"
   ]
  },
  {
   "cell_type": "code",
   "execution_count": 6,
   "id": "cf0bf1bd",
   "metadata": {},
   "outputs": [
    {
     "data": {
      "image/png": "[encoded data removed]",
      "text/plain": [
       "<Figure size 672x264.96 with 1 Axes>"
      ]
     },
     "metadata": {
      "needs_background": "light"
     },
     "output_type": "display_data"
    }
   ],
   "source": [
    "# Build circuit\n",
    "exp4 = GUI('circuits/exp4.txt', \n",
    "        edit=True, \n",
    "        plot=True, \n",
    "        print_network=False) "
   ]
  },
  {
   "cell_type": "code",
   "execution_count": 7,
   "id": "72fa8a35",
   "metadata": {},
   "outputs": [],
   "source": [
    "H = exp4.hamiltonian(\n",
    "    modes = [0,1],\n",
    "    taylor = 2,\n",
    "    excitations = [8,10],\n",
    "    L1= 9e-9, L2= 10e-9)\n",
    "ee = H.eigenenergies()"
   ]
  },
  {
   "cell_type": "code",
   "execution_count": 8,
   "id": "f55defdc",
   "metadata": {},
   "outputs": [
    {
     "name": "stdout",
     "output_type": "stream",
     "text": [
      "7.076 GHz\n"
     ]
    }
   ],
   "source": [
    "first_transition = ee[1]-ee[0]\n",
    "print(\"%.3f GHz\"%((first_transition)/1e9))"
   ]
  },
  {
   "cell_type": "code",
   "execution_count": 11,
   "id": "cabbd780",
   "metadata": {},
   "outputs": [],
   "source": [
    "H,a_m_list = exp4.hamiltonian(modes = [0,0],taylor = 4,excitations = [5,5],L1= 8e-9, L2= 8e-9,\n",
    "    return_ops = True)  \n",
    "H = 2.*np.pi*H\n",
    "k = exp4.loss_rates(L1= 8e-9, L2= 8e-9)\n",
    "c_ops = [np.sqrt(2*np.pi*k[0])*a_m_list[0],np.sqrt(2*np.pi*k[0])*a_m_list[1]]"
   ]
  },
  {
   "cell_type": "code",
   "execution_count": 17,
   "id": "1e23a4cf",
   "metadata": {},
   "outputs": [
    {
     "data": {
      "text/plain": [
       "array([7.47500186e+09, 7.54938182e+09])"
      ]
     },
     "execution_count": 17,
     "metadata": {},
     "output_type": "execute_result"
    }
   ],
   "source": [
    "exp4.eigenfrequencies(L1= 8e-9, L2= 8e-9)"
   ]
  },
  {
   "cell_type": "code",
   "execution_count": 18,
   "id": "2718261e",
   "metadata": {},
   "outputs": [
    {
     "data": {
      "text/plain": [
       "array([52751169.19144207, 53806192.57527065])"
      ]
     },
     "execution_count": 18,
     "metadata": {},
     "output_type": "execute_result"
    }
   ],
   "source": [
    "exp4.anharmonicities(L1= 8e-9, L2= 8e-9)"
   ]
  },
  {
   "cell_type": "code",
   "execution_count": 19,
   "id": "2021bb75",
   "metadata": {},
   "outputs": [
    {
     "name": "stdout",
     "output_type": "stream",
     "text": [
      "52751.17 kHz\n"
     ]
    }
   ],
   "source": [
    "K = exp4.kerr(L1= 8e-9, L2= 8e-9)\n",
    "print(\"%.2f kHz\"%(K[0,0]/1e3))"
   ]
  },
  {
   "cell_type": "code",
   "execution_count": 20,
   "id": "532d1cba",
   "metadata": {},
   "outputs": [
    {
     "name": "stdout",
     "output_type": "stream",
     "text": [
      "105502.34 kHz\n"
     ]
    }
   ],
   "source": [
    "A = exp4.anharmonicities(L1= 8e-9, L2= 8e-9)\n",
    "print(\"%.2f kHz\"%(2*np.sqrt(A[0]*A[0])/1e3))"
   ]
  },
  {
   "cell_type": "code",
   "execution_count": 21,
   "id": "8ba1d6fd",
   "metadata": {},
   "outputs": [
    {
     "data": {
      "text/plain": [
       "array([0., 0.])"
      ]
     },
     "execution_count": 21,
     "metadata": {},
     "output_type": "execute_result"
    }
   ],
   "source": [
    "exp4.loss_rates(L1= 8e-9, L2= 8e-9)"
   ]
  },
  {
   "cell_type": "code",
   "execution_count": 22,
   "id": "abef3dd1",
   "metadata": {},
   "outputs": [
    {
     "name": "stdout",
     "output_type": "stream",
     "text": [
      "[inf inf]\n"
     ]
    },
    {
     "name": "stderr",
     "output_type": "stream",
     "text": [
      "C:\\Users\\nithi\\AppData\\Local\\Temp\\ipykernel_3372\\2919718394.py:1: RuntimeWarning: divide by zero encountered in true_divide\n",
      "  T_1 = 1/exp4.loss_rates(L1= 8e-9, L2= 8e-9)/2/np.pi\n"
     ]
    }
   ],
   "source": [
    "T_1 = 1/exp4.loss_rates(L1= 8e-9, L2= 8e-9)/2/np.pi\n",
    "print(T_1)"
   ]
  },
  {
   "cell_type": "code",
   "execution_count": 23,
   "id": "9501f424",
   "metadata": {},
   "outputs": [
    {
     "data": {
      "text/plain": [
       "(array([7.47500186e+09, 7.54938182e+09]),\n",
       " array([0., 0.]),\n",
       " array([52751169.19144207, 53806192.57527065]),\n",
       " array([[5.27511692e+07, 1.06552139e+08],\n",
       "        [1.06552139e+08, 5.38061926e+07]]))"
      ]
     },
     "execution_count": 23,
     "metadata": {},
     "output_type": "execute_result"
    }
   ],
   "source": [
    "exp4.f_k_A_chi(L1= 8e-9, L2= 8e-9)"
   ]
  },
  {
   "cell_type": "code",
   "execution_count": 24,
   "id": "2a4942db",
   "metadata": {},
   "outputs": [
    {
     "name": "stdout",
     "output_type": "stream",
     "text": [
      "         mode |       freq.  |       diss.  |       anha.  |\n",
      "            0 |     7.48 GHz |          0Hz |     52.8 MHz |\n",
      "            1 |     7.55 GHz |          0Hz |     53.8 MHz |\n",
      "\n",
      "Kerr coefficients (diagonal = Kerr, off-diagonal = cross-Kerr)\n",
      "         mode |         0    |         1    |\n",
      "            0 |     52.8 MHz |              |\n",
      "            1 |      107 MHz |     53.8 MHz |\n",
      "\n"
     ]
    }
   ],
   "source": [
    "f,k,A,chi = exp4.f_k_A_chi(pretty_print=True,L1= 8e-9, L2= 8e-9)"
   ]
  },
  {
   "cell_type": "code",
   "execution_count": 26,
   "id": "b4c7c58d",
   "metadata": {},
   "outputs": [
    {
     "name": "stderr",
     "output_type": "stream",
     "text": [
      "C:\\Users\\nithi\\anaconda3\\lib\\site-packages\\matplotlib\\cbook\\__init__.py:1298: ComplexWarning: Casting complex values to real discards the imaginary part\n",
      "  return np.asarray(x, float)\n",
      "C:\\Users\\nithi\\anaconda3\\lib\\site-packages\\matplotlib\\cbook\\__init__.py:1298: ComplexWarning: Casting complex values to real discards the imaginary part\n",
      "  return np.asarray(x, float)\n"
     ]
    },
    {
     "data": {
      "image/png": "[encoded data removed]",
      "text/plain": [
       "<Figure size 432x288 with 1 Axes>"
      ]
     },
     "metadata": {
      "needs_background": "light"
     },
     "output_type": "display_data"
    }
   ],
   "source": [
    "L1_list = np.linspace(8e-9,12e-9,101)\n",
    "L2_list = np.linspace(8e-9,12e-9,101)\n",
    "\n",
    "# Eigen-frequencies of the system:\n",
    "freqs = exp4.eigenfrequencies(L1=L1_list,L2=L2_list)\n",
    "\n",
    "# plot first mode\n",
    "plt.plot(L1_list*1e9,freqs[0]/1e9)\n",
    "plt.plot(L1_list*1e9,freqs[1]/1e9)\n",
    "\n",
    "\n",
    "# Add labels\n",
    "plt.xlabel('L_J (nH)')\n",
    "plt.ylabel('Normal mode frequency (GHz)')\n",
    "\n",
    "# show the figure\n",
    "plt.show()"
   ]
  },
  {
   "cell_type": "code",
   "execution_count": 28,
   "id": "fc20e19c",
   "metadata": {},
   "outputs": [
    {
     "data": {
      "image/png": "[encoded data removed]",
      "text/plain": [
       "<Figure size 1008x440.64 with 1 Axes>"
      ]
     },
     "metadata": {
      "needs_background": "light"
     },
     "output_type": "display_data"
    }
   ],
   "source": [
    "exp4.show_normal_mode(mode=0,quantity='current',L1= 9e-9, L2= 10e-9)\n"
   ]
  },
  {
   "cell_type": "code",
   "execution_count": 31,
   "id": "a15c9238",
   "metadata": {},
   "outputs": [
    {
     "name": "stdout",
     "output_type": "stream",
     "text": [
      "(-2.044589430121326e-09+0j)\n"
     ]
    }
   ],
   "source": [
    "print(exp4.components['L1'].zpf(mode = 0, quantity = 'current',L1= 9e-9, L2= 10e-9))"
   ]
  },
  {
   "cell_type": "code",
   "execution_count": 32,
   "id": "5e7754f0",
   "metadata": {},
   "outputs": [
    {
     "data": {
      "text/latex": [
       "Quantum object: dims = [[5, 5], [5, 5]], shape = (25, 25), type = oper, isherm = True\\begin{equation*}\\left(\\begin{array}{*{11}c}0.0 & 0.0 & 0.0 & 0.0 & 0.0 & \\cdots & 0.0 & 0.0 & 0.0 & 0.0 & 0.0\\\\0.0 & 7.283\\times10^{+09} & 0.0 & 0.0 & 0.0 & \\cdots & 0.0 & 0.0 & 0.0 & 0.0 & 0.0\\\\0.0 & 0.0 & 1.457\\times10^{+10} & 0.0 & 0.0 & \\cdots & 0.0 & 0.0 & 0.0 & 0.0 & 0.0\\\\0.0 & 0.0 & 0.0 & 2.185\\times10^{+10} & 0.0 & \\cdots & 0.0 & 0.0 & 0.0 & 0.0 & 0.0\\\\0.0 & 0.0 & 0.0 & 0.0 & 2.913\\times10^{+10} & \\cdots & 0.0 & 0.0 & 0.0 & 0.0 & 0.0\\\\\\vdots & \\vdots & \\vdots & \\vdots & \\vdots & \\ddots & \\vdots & \\vdots & \\vdots & \\vdots & \\vdots\\\\0.0 & 0.0 & 0.0 & 0.0 & 0.0 & \\cdots & 2.831\\times10^{+10} & 0.0 & 0.0 & 0.0 & 0.0\\\\0.0 & 0.0 & 0.0 & 0.0 & 0.0 & \\cdots & 0.0 & 3.559\\times10^{+10} & 0.0 & 0.0 & 0.0\\\\0.0 & 0.0 & 0.0 & 0.0 & 0.0 & \\cdots & 0.0 & 0.0 & 4.287\\times10^{+10} & 0.0 & 0.0\\\\0.0 & 0.0 & 0.0 & 0.0 & 0.0 & \\cdots & 0.0 & 0.0 & 0.0 & 5.015\\times10^{+10} & 0.0\\\\0.0 & 0.0 & 0.0 & 0.0 & 0.0 & \\cdots & 0.0 & 0.0 & 0.0 & 0.0 & 5.744\\times10^{+10}\\\\\\end{array}\\right)\\end{equation*}"
      ],
      "text/plain": [
       "Quantum object: dims = [[5, 5], [5, 5]], shape = (25, 25), type = oper, isherm = True\n",
       "Qobj data =\n",
       "[[0.00000000e+00 0.00000000e+00 0.00000000e+00 0.00000000e+00\n",
       "  0.00000000e+00 0.00000000e+00 0.00000000e+00 0.00000000e+00\n",
       "  0.00000000e+00 0.00000000e+00 0.00000000e+00 0.00000000e+00\n",
       "  0.00000000e+00 0.00000000e+00 0.00000000e+00 0.00000000e+00\n",
       "  0.00000000e+00 0.00000000e+00 0.00000000e+00 0.00000000e+00\n",
       "  0.00000000e+00 0.00000000e+00 0.00000000e+00 0.00000000e+00\n",
       "  0.00000000e+00]\n",
       " [0.00000000e+00 7.28294574e+09 0.00000000e+00 0.00000000e+00\n",
       "  0.00000000e+00 0.00000000e+00 0.00000000e+00 0.00000000e+00\n",
       "  0.00000000e+00 0.00000000e+00 0.00000000e+00 0.00000000e+00\n",
       "  0.00000000e+00 0.00000000e+00 0.00000000e+00 0.00000000e+00\n",
       "  0.00000000e+00 0.00000000e+00 0.00000000e+00 0.00000000e+00\n",
       "  0.00000000e+00 0.00000000e+00 0.00000000e+00 0.00000000e+00\n",
       "  0.00000000e+00]\n",
       " [0.00000000e+00 0.00000000e+00 1.45658915e+10 0.00000000e+00\n",
       "  0.00000000e+00 0.00000000e+00 0.00000000e+00 0.00000000e+00\n",
       "  0.00000000e+00 0.00000000e+00 0.00000000e+00 0.00000000e+00\n",
       "  0.00000000e+00 0.00000000e+00 0.00000000e+00 0.00000000e+00\n",
       "  0.00000000e+00 0.00000000e+00 0.00000000e+00 0.00000000e+00\n",
       "  0.00000000e+00 0.00000000e+00 0.00000000e+00 0.00000000e+00\n",
       "  0.00000000e+00]\n",
       " [0.00000000e+00 0.00000000e+00 0.00000000e+00 2.18488372e+10\n",
       "  0.00000000e+00 0.00000000e+00 0.00000000e+00 0.00000000e+00\n",
       "  0.00000000e+00 0.00000000e+00 0.00000000e+00 0.00000000e+00\n",
       "  0.00000000e+00 0.00000000e+00 0.00000000e+00 0.00000000e+00\n",
       "  0.00000000e+00 0.00000000e+00 0.00000000e+00 0.00000000e+00\n",
       "  0.00000000e+00 0.00000000e+00 0.00000000e+00 0.00000000e+00\n",
       "  0.00000000e+00]\n",
       " [0.00000000e+00 0.00000000e+00 0.00000000e+00 0.00000000e+00\n",
       "  2.91317830e+10 0.00000000e+00 0.00000000e+00 0.00000000e+00\n",
       "  0.00000000e+00 0.00000000e+00 0.00000000e+00 0.00000000e+00\n",
       "  0.00000000e+00 0.00000000e+00 0.00000000e+00 0.00000000e+00\n",
       "  0.00000000e+00 0.00000000e+00 0.00000000e+00 0.00000000e+00\n",
       "  0.00000000e+00 0.00000000e+00 0.00000000e+00 0.00000000e+00\n",
       "  0.00000000e+00]\n",
       " [0.00000000e+00 0.00000000e+00 0.00000000e+00 0.00000000e+00\n",
       "  0.00000000e+00 7.07625780e+09 0.00000000e+00 0.00000000e+00\n",
       "  0.00000000e+00 0.00000000e+00 0.00000000e+00 0.00000000e+00\n",
       "  0.00000000e+00 0.00000000e+00 0.00000000e+00 0.00000000e+00\n",
       "  0.00000000e+00 0.00000000e+00 0.00000000e+00 0.00000000e+00\n",
       "  0.00000000e+00 0.00000000e+00 0.00000000e+00 0.00000000e+00\n",
       "  0.00000000e+00]\n",
       " [0.00000000e+00 0.00000000e+00 0.00000000e+00 0.00000000e+00\n",
       "  0.00000000e+00 0.00000000e+00 1.43592035e+10 0.00000000e+00\n",
       "  0.00000000e+00 0.00000000e+00 0.00000000e+00 0.00000000e+00\n",
       "  0.00000000e+00 0.00000000e+00 0.00000000e+00 0.00000000e+00\n",
       "  0.00000000e+00 0.00000000e+00 0.00000000e+00 0.00000000e+00\n",
       "  0.00000000e+00 0.00000000e+00 0.00000000e+00 0.00000000e+00\n",
       "  0.00000000e+00]\n",
       " [0.00000000e+00 0.00000000e+00 0.00000000e+00 0.00000000e+00\n",
       "  0.00000000e+00 0.00000000e+00 0.00000000e+00 2.16421493e+10\n",
       "  0.00000000e+00 0.00000000e+00 0.00000000e+00 0.00000000e+00\n",
       "  0.00000000e+00 0.00000000e+00 0.00000000e+00 0.00000000e+00\n",
       "  0.00000000e+00 0.00000000e+00 0.00000000e+00 0.00000000e+00\n",
       "  0.00000000e+00 0.00000000e+00 0.00000000e+00 0.00000000e+00\n",
       "  0.00000000e+00]\n",
       " [0.00000000e+00 0.00000000e+00 0.00000000e+00 0.00000000e+00\n",
       "  0.00000000e+00 0.00000000e+00 0.00000000e+00 0.00000000e+00\n",
       "  2.89250950e+10 0.00000000e+00 0.00000000e+00 0.00000000e+00\n",
       "  0.00000000e+00 0.00000000e+00 0.00000000e+00 0.00000000e+00\n",
       "  0.00000000e+00 0.00000000e+00 0.00000000e+00 0.00000000e+00\n",
       "  0.00000000e+00 0.00000000e+00 0.00000000e+00 0.00000000e+00\n",
       "  0.00000000e+00]\n",
       " [0.00000000e+00 0.00000000e+00 0.00000000e+00 0.00000000e+00\n",
       "  0.00000000e+00 0.00000000e+00 0.00000000e+00 0.00000000e+00\n",
       "  0.00000000e+00 3.62080408e+10 0.00000000e+00 0.00000000e+00\n",
       "  0.00000000e+00 0.00000000e+00 0.00000000e+00 0.00000000e+00\n",
       "  0.00000000e+00 0.00000000e+00 0.00000000e+00 0.00000000e+00\n",
       "  0.00000000e+00 0.00000000e+00 0.00000000e+00 0.00000000e+00\n",
       "  0.00000000e+00]\n",
       " [0.00000000e+00 0.00000000e+00 0.00000000e+00 0.00000000e+00\n",
       "  0.00000000e+00 0.00000000e+00 0.00000000e+00 0.00000000e+00\n",
       "  0.00000000e+00 0.00000000e+00 1.41525156e+10 0.00000000e+00\n",
       "  0.00000000e+00 0.00000000e+00 0.00000000e+00 0.00000000e+00\n",
       "  0.00000000e+00 0.00000000e+00 0.00000000e+00 0.00000000e+00\n",
       "  0.00000000e+00 0.00000000e+00 0.00000000e+00 0.00000000e+00\n",
       "  0.00000000e+00]\n",
       " [0.00000000e+00 0.00000000e+00 0.00000000e+00 0.00000000e+00\n",
       "  0.00000000e+00 0.00000000e+00 0.00000000e+00 0.00000000e+00\n",
       "  0.00000000e+00 0.00000000e+00 0.00000000e+00 2.14354613e+10\n",
       "  0.00000000e+00 0.00000000e+00 0.00000000e+00 0.00000000e+00\n",
       "  0.00000000e+00 0.00000000e+00 0.00000000e+00 0.00000000e+00\n",
       "  0.00000000e+00 0.00000000e+00 0.00000000e+00 0.00000000e+00\n",
       "  0.00000000e+00]\n",
       " [0.00000000e+00 0.00000000e+00 0.00000000e+00 0.00000000e+00\n",
       "  0.00000000e+00 0.00000000e+00 0.00000000e+00 0.00000000e+00\n",
       "  0.00000000e+00 0.00000000e+00 0.00000000e+00 0.00000000e+00\n",
       "  2.87184071e+10 0.00000000e+00 0.00000000e+00 0.00000000e+00\n",
       "  0.00000000e+00 0.00000000e+00 0.00000000e+00 0.00000000e+00\n",
       "  0.00000000e+00 0.00000000e+00 0.00000000e+00 0.00000000e+00\n",
       "  0.00000000e+00]\n",
       " [0.00000000e+00 0.00000000e+00 0.00000000e+00 0.00000000e+00\n",
       "  0.00000000e+00 0.00000000e+00 0.00000000e+00 0.00000000e+00\n",
       "  0.00000000e+00 0.00000000e+00 0.00000000e+00 0.00000000e+00\n",
       "  0.00000000e+00 3.60013528e+10 0.00000000e+00 0.00000000e+00\n",
       "  0.00000000e+00 0.00000000e+00 0.00000000e+00 0.00000000e+00\n",
       "  0.00000000e+00 0.00000000e+00 0.00000000e+00 0.00000000e+00\n",
       "  0.00000000e+00]\n",
       " [0.00000000e+00 0.00000000e+00 0.00000000e+00 0.00000000e+00\n",
       "  0.00000000e+00 0.00000000e+00 0.00000000e+00 0.00000000e+00\n",
       "  0.00000000e+00 0.00000000e+00 0.00000000e+00 0.00000000e+00\n",
       "  0.00000000e+00 0.00000000e+00 4.32842986e+10 0.00000000e+00\n",
       "  0.00000000e+00 0.00000000e+00 0.00000000e+00 0.00000000e+00\n",
       "  0.00000000e+00 0.00000000e+00 0.00000000e+00 0.00000000e+00\n",
       "  0.00000000e+00]\n",
       " [0.00000000e+00 0.00000000e+00 0.00000000e+00 0.00000000e+00\n",
       "  0.00000000e+00 0.00000000e+00 0.00000000e+00 0.00000000e+00\n",
       "  0.00000000e+00 0.00000000e+00 0.00000000e+00 0.00000000e+00\n",
       "  0.00000000e+00 0.00000000e+00 0.00000000e+00 2.12287734e+10\n",
       "  0.00000000e+00 0.00000000e+00 0.00000000e+00 0.00000000e+00\n",
       "  0.00000000e+00 0.00000000e+00 0.00000000e+00 0.00000000e+00\n",
       "  0.00000000e+00]\n",
       " [0.00000000e+00 0.00000000e+00 0.00000000e+00 0.00000000e+00\n",
       "  0.00000000e+00 0.00000000e+00 0.00000000e+00 0.00000000e+00\n",
       "  0.00000000e+00 0.00000000e+00 0.00000000e+00 0.00000000e+00\n",
       "  0.00000000e+00 0.00000000e+00 0.00000000e+00 0.00000000e+00\n",
       "  2.85117191e+10 0.00000000e+00 0.00000000e+00 0.00000000e+00\n",
       "  0.00000000e+00 0.00000000e+00 0.00000000e+00 0.00000000e+00\n",
       "  0.00000000e+00]\n",
       " [0.00000000e+00 0.00000000e+00 0.00000000e+00 0.00000000e+00\n",
       "  0.00000000e+00 0.00000000e+00 0.00000000e+00 0.00000000e+00\n",
       "  0.00000000e+00 0.00000000e+00 0.00000000e+00 0.00000000e+00\n",
       "  0.00000000e+00 0.00000000e+00 0.00000000e+00 0.00000000e+00\n",
       "  0.00000000e+00 3.57946649e+10 0.00000000e+00 0.00000000e+00\n",
       "  0.00000000e+00 0.00000000e+00 0.00000000e+00 0.00000000e+00\n",
       "  0.00000000e+00]\n",
       " [0.00000000e+00 0.00000000e+00 0.00000000e+00 0.00000000e+00\n",
       "  0.00000000e+00 0.00000000e+00 0.00000000e+00 0.00000000e+00\n",
       "  0.00000000e+00 0.00000000e+00 0.00000000e+00 0.00000000e+00\n",
       "  0.00000000e+00 0.00000000e+00 0.00000000e+00 0.00000000e+00\n",
       "  0.00000000e+00 0.00000000e+00 4.30776106e+10 0.00000000e+00\n",
       "  0.00000000e+00 0.00000000e+00 0.00000000e+00 0.00000000e+00\n",
       "  0.00000000e+00]\n",
       " [0.00000000e+00 0.00000000e+00 0.00000000e+00 0.00000000e+00\n",
       "  0.00000000e+00 0.00000000e+00 0.00000000e+00 0.00000000e+00\n",
       "  0.00000000e+00 0.00000000e+00 0.00000000e+00 0.00000000e+00\n",
       "  0.00000000e+00 0.00000000e+00 0.00000000e+00 0.00000000e+00\n",
       "  0.00000000e+00 0.00000000e+00 0.00000000e+00 5.03605564e+10\n",
       "  0.00000000e+00 0.00000000e+00 0.00000000e+00 0.00000000e+00\n",
       "  0.00000000e+00]\n",
       " [0.00000000e+00 0.00000000e+00 0.00000000e+00 0.00000000e+00\n",
       "  0.00000000e+00 0.00000000e+00 0.00000000e+00 0.00000000e+00\n",
       "  0.00000000e+00 0.00000000e+00 0.00000000e+00 0.00000000e+00\n",
       "  0.00000000e+00 0.00000000e+00 0.00000000e+00 0.00000000e+00\n",
       "  0.00000000e+00 0.00000000e+00 0.00000000e+00 0.00000000e+00\n",
       "  2.83050312e+10 0.00000000e+00 0.00000000e+00 0.00000000e+00\n",
       "  0.00000000e+00]\n",
       " [0.00000000e+00 0.00000000e+00 0.00000000e+00 0.00000000e+00\n",
       "  0.00000000e+00 0.00000000e+00 0.00000000e+00 0.00000000e+00\n",
       "  0.00000000e+00 0.00000000e+00 0.00000000e+00 0.00000000e+00\n",
       "  0.00000000e+00 0.00000000e+00 0.00000000e+00 0.00000000e+00\n",
       "  0.00000000e+00 0.00000000e+00 0.00000000e+00 0.00000000e+00\n",
       "  0.00000000e+00 3.55879769e+10 0.00000000e+00 0.00000000e+00\n",
       "  0.00000000e+00]\n",
       " [0.00000000e+00 0.00000000e+00 0.00000000e+00 0.00000000e+00\n",
       "  0.00000000e+00 0.00000000e+00 0.00000000e+00 0.00000000e+00\n",
       "  0.00000000e+00 0.00000000e+00 0.00000000e+00 0.00000000e+00\n",
       "  0.00000000e+00 0.00000000e+00 0.00000000e+00 0.00000000e+00\n",
       "  0.00000000e+00 0.00000000e+00 0.00000000e+00 0.00000000e+00\n",
       "  0.00000000e+00 0.00000000e+00 4.28709227e+10 0.00000000e+00\n",
       "  0.00000000e+00]\n",
       " [0.00000000e+00 0.00000000e+00 0.00000000e+00 0.00000000e+00\n",
       "  0.00000000e+00 0.00000000e+00 0.00000000e+00 0.00000000e+00\n",
       "  0.00000000e+00 0.00000000e+00 0.00000000e+00 0.00000000e+00\n",
       "  0.00000000e+00 0.00000000e+00 0.00000000e+00 0.00000000e+00\n",
       "  0.00000000e+00 0.00000000e+00 0.00000000e+00 0.00000000e+00\n",
       "  0.00000000e+00 0.00000000e+00 0.00000000e+00 5.01538684e+10\n",
       "  0.00000000e+00]\n",
       " [0.00000000e+00 0.00000000e+00 0.00000000e+00 0.00000000e+00\n",
       "  0.00000000e+00 0.00000000e+00 0.00000000e+00 0.00000000e+00\n",
       "  0.00000000e+00 0.00000000e+00 0.00000000e+00 0.00000000e+00\n",
       "  0.00000000e+00 0.00000000e+00 0.00000000e+00 0.00000000e+00\n",
       "  0.00000000e+00 0.00000000e+00 0.00000000e+00 0.00000000e+00\n",
       "  0.00000000e+00 0.00000000e+00 0.00000000e+00 0.00000000e+00\n",
       "  5.74368142e+10]]"
      ]
     },
     "execution_count": 32,
     "metadata": {},
     "output_type": "execute_result"
    }
   ],
   "source": [
    "exp4.hamiltonian(modes = [0,1],taylor = 2,excitations = [5,5], L1= 9e-9, L2= 10e-9,\n",
    "    return_ops = False)"
   ]
  },
  {
   "cell_type": "code",
   "execution_count": null,
   "id": "5c6a44f2",
   "metadata": {},
   "outputs": [],
   "source": []
  }
 ],
 "metadata": {
  "kernelspec": {
   "display_name": "Python 3 (ipykernel)",
   "language": "python",
   "name": "python3"
  },
  "language_info": {
   "codemirror_mode": {
    "name": "ipython",
    "version": 3
   },
   "file_extension": ".py",
   "mimetype": "text/x-python",
   "name": "python",
   "nbconvert_exporter": "python",
   "pygments_lexer": "ipython3",
   "version": "3.9.12"
  }
 },
 "nbformat": 4,
 "nbformat_minor": 5
}
