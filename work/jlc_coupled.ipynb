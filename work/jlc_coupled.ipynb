{
 "cells": [
  {
   "cell_type": "code",
   "execution_count": 197,
   "id": "56d711ae",
   "metadata": {},
   "outputs": [],
   "source": [
    "import numpy as np\n",
    "import matplotlib.pyplot as plt"
   ]
  },
  {
   "cell_type": "code",
   "execution_count": 198,
   "id": "6c327c3d",
   "metadata": {},
   "outputs": [],
   "source": [
    "from qucat import Network,GUI,L,J,C,R"
   ]
  },
  {
   "cell_type": "code",
   "execution_count": 199,
   "id": "cf0bf1bd",
   "metadata": {},
   "outputs": [
    {
     "data": {
      "image/png": "[encoded data removed]",
      "text/plain": [
       "<Figure size 528x177.48 with 1 Axes>"
      ]
     },
     "metadata": {
      "needs_background": "light"
     },
     "output_type": "display_data"
    }
   ],
   "source": [
    "# Build circuit\n",
    "case4 = GUI('circuits/case4.txt', # location of the circuit file\n",
    "        edit=True, # open the GUI to edit the circuit\n",
    "        plot=True, # plot the circuit after having edited it\n",
    "        print_network=False) # print the network"
   ]
  },
  {
   "cell_type": "code",
   "execution_count": 200,
   "id": "72fa8a35",
   "metadata": {},
   "outputs": [],
   "source": [
    "# Compute hamiltonian (for h=1, so all energies are expressed in frequency units, not angular)\n",
    "H = case4.hamiltonian(\n",
    "    modes = [0,1],# Include modes 0 and 1\n",
    "    taylor = 4,# Taylor the Josephson potential to the power 4\n",
    "    excitations = [8,10],# Consider 8 excitations in mode 0, 10 for mode 1\n",
    "    Lj = 8e-9)# set any component values that were not fixed when building the circuit\n",
    "\n",
    "# QuTiP method which return the eigenergies of the system\n",
    "ee = H.eigenenergies()"
   ]
  },
  {
   "cell_type": "code",
   "execution_count": 201,
   "id": "1a564dbc",
   "metadata": {},
   "outputs": [
    {
     "name": "stdout",
     "output_type": "stream",
     "text": [
      "5.006 GHz\n"
     ]
    }
   ],
   "source": [
    "first_transition = ee[1]-ee[0] # in units of Hertz\n",
    "# print this frequency in GHz units\n",
    "print(\"%.3f GHz\"%((first_transition)/1e9))"
   ]
  },
  {
   "cell_type": "code",
   "execution_count": 202,
   "id": "66ce0f7c",
   "metadata": {},
   "outputs": [],
   "source": [
    "# H is the Hamiltonian\n",
    "H,a_m_list = case4.hamiltonian(modes = [0,1],taylor = 4,excitations = [5,5], Lj = 8e-9,\n",
    "    return_ops = True)  # with this, we return the annihilation operators of\n",
    "                        # the different modes in addition to the Hamiltonian\n",
    "\n",
    "# The Hamiltonian should be in angular frequencies for time-dependant simulations\n",
    "H = 2.*np.pi*H\n",
    "\n",
    "k = case4.loss_rates(Lj = 8e-9) # Calculate loss rates of the different modes\n",
    "\n",
    "# c_ops are the collapse operators\n",
    "# which should be in angular frequencies for time-dependant simulations\n",
    "c_ops = [np.sqrt(2*np.pi*k[0])*a_m_list[0],np.sqrt(2*np.pi*k[0])*a_m_list[1]]"
   ]
  },
  {
   "cell_type": "code",
   "execution_count": 203,
   "id": "0e046692",
   "metadata": {},
   "outputs": [
    {
     "data": {
      "text/plain": [
       "array([5.00696413e+09, 5.60042136e+09])"
      ]
     },
     "execution_count": 203,
     "metadata": {},
     "output_type": "execute_result"
    }
   ],
   "source": [
    "case4.eigenfrequencies(Lj=8e-9)"
   ]
  },
  {
   "cell_type": "code",
   "execution_count": 204,
   "id": "2f153426",
   "metadata": {},
   "outputs": [
    {
     "data": {
      "text/plain": [
       "array([5.82662904e+02, 1.91131049e+08])"
      ]
     },
     "execution_count": 204,
     "metadata": {},
     "output_type": "execute_result"
    }
   ],
   "source": [
    "case4.anharmonicities(Lj=8e-9)"
   ]
  },
  {
   "cell_type": "code",
   "execution_count": 205,
   "id": "5a2f5707",
   "metadata": {},
   "outputs": [
    {
     "name": "stdout",
     "output_type": "stream",
     "text": [
      "667.43 kHz\n"
     ]
    }
   ],
   "source": [
    "K = case4.kerr(Lj=8e-9)\n",
    "print(\"%.2f kHz\"%(K[0,1]/1e3))"
   ]
  },
  {
   "cell_type": "code",
   "execution_count": 206,
   "id": "7a20e269",
   "metadata": {},
   "outputs": [
    {
     "name": "stdout",
     "output_type": "stream",
     "text": [
      "667.43 kHz\n"
     ]
    }
   ],
   "source": [
    "A = case4.anharmonicities(Lj=8e-9)\n",
    "print(\"%.2f kHz\"%(2*np.sqrt(A[0]*A[1])/1e3))"
   ]
  },
  {
   "cell_type": "code",
   "execution_count": 207,
   "id": "ba922c46",
   "metadata": {},
   "outputs": [
    {
     "data": {
      "text/plain": [
       "array([0., 0.])"
      ]
     },
     "execution_count": 207,
     "metadata": {},
     "output_type": "execute_result"
    }
   ],
   "source": [
    "case4.loss_rates(Lj=8e-9)"
   ]
  },
  {
   "cell_type": "code",
   "execution_count": 208,
   "id": "9899d7bb",
   "metadata": {},
   "outputs": [
    {
     "name": "stdout",
     "output_type": "stream",
     "text": [
      "[inf inf]\n"
     ]
    },
    {
     "name": "stderr",
     "output_type": "stream",
     "text": [
      "C:\\Users\\nithi\\AppData\\Local\\Temp\\ipykernel_3316\\3153739397.py:1: RuntimeWarning: divide by zero encountered in true_divide\n",
      "  T_1 = 1/case4.loss_rates(Lj=8e-9)/2/np.pi\n"
     ]
    }
   ],
   "source": [
    "T_1 = 1/case4.loss_rates(Lj=8e-9)/2/np.pi\n",
    "print(T_1)"
   ]
  },
  {
   "cell_type": "code",
   "execution_count": 209,
   "id": "52146f74",
   "metadata": {},
   "outputs": [
    {
     "data": {
      "text/plain": [
       "(array([5.00696413e+09, 5.60042136e+09]),\n",
       " array([0., 0.]),\n",
       " array([5.82662904e+02, 1.91131049e+08]),\n",
       " array([[5.82662904e+02, 6.67427816e+05],\n",
       "        [6.67427816e+05, 1.91131049e+08]]))"
      ]
     },
     "execution_count": 209,
     "metadata": {},
     "output_type": "execute_result"
    }
   ],
   "source": [
    "case4.f_k_A_chi(Lj = 8e-9)"
   ]
  },
  {
   "cell_type": "code",
   "execution_count": 210,
   "id": "3cb457db",
   "metadata": {},
   "outputs": [
    {
     "name": "stdout",
     "output_type": "stream",
     "text": [
      "         mode |       freq.  |       diss.  |       anha.  |\n",
      "            0 |     5.01 GHz |          0Hz |       583 Hz |\n",
      "            1 |      5.6 GHz |          0Hz |      191 MHz |\n",
      "\n",
      "Kerr coefficients (diagonal = Kerr, off-diagonal = cross-Kerr)\n",
      "         mode |         0    |         1    |\n",
      "            0 |       583 Hz |              |\n",
      "            1 |      667 kHz |      191 MHz |\n",
      "\n"
     ]
    }
   ],
   "source": [
    "f,k,A,chi = case4.f_k_A_chi(pretty_print=True,Lj = 8e-9)"
   ]
  },
  {
   "cell_type": "code",
   "execution_count": 211,
   "id": "fe37e38e",
   "metadata": {},
   "outputs": [
    {
     "name": "stderr",
     "output_type": "stream",
     "text": [
      "C:\\Users\\nithi\\anaconda3\\lib\\site-packages\\matplotlib\\cbook\\__init__.py:1298: ComplexWarning: Casting complex values to real discards the imaginary part\n",
      "  return np.asarray(x, float)\n",
      "C:\\Users\\nithi\\anaconda3\\lib\\site-packages\\matplotlib\\cbook\\__init__.py:1298: ComplexWarning: Casting complex values to real discards the imaginary part\n",
      "  return np.asarray(x, float)\n"
     ]
    },
    {
     "data": {
      "image/png": "[encoded data removed]",
      "text/plain": [
       "<Figure size 432x288 with 1 Axes>"
      ]
     },
     "metadata": {
      "needs_background": "light"
     },
     "output_type": "display_data"
    }
   ],
   "source": [
    "# array of values for the josephson inductance\n",
    "Lj_list = np.linspace(8e-9,12e-9,101)\n",
    "\n",
    "# Eigen-frequencies of the system:\n",
    "freqs = case4.eigenfrequencies(Lj=Lj_list)\n",
    "\n",
    "# plot first mode\n",
    "plt.plot(Lj_list*1e9,freqs[0]/1e9)\n",
    "\n",
    "# plot second mode\n",
    "plt.plot(Lj_list*1e9,freqs[1]/1e9)\n",
    "\n",
    "# Add labels\n",
    "plt.xlabel('L_J (nH)')\n",
    "plt.ylabel('Normal mode frequency (GHz)')\n",
    "\n",
    "# show the figure\n",
    "plt.show()"
   ]
  },
  {
   "cell_type": "code",
   "execution_count": 212,
   "id": "a9e04d68",
   "metadata": {},
   "outputs": [
    {
     "data": {
      "image/png": "[encoded data removed]",
      "text/plain": [
       "<Figure size 792x304.92 with 1 Axes>"
      ]
     },
     "metadata": {
      "needs_background": "light"
     },
     "output_type": "display_data"
    },
    {
     "data": {
      "image/png": "[encoded data removed]",
      "text/plain": [
       "<Figure size 792x304.92 with 1 Axes>"
      ]
     },
     "metadata": {
      "needs_background": "light"
     },
     "output_type": "display_data"
    }
   ],
   "source": [
    "case4.show_normal_mode(mode=0,quantity='current', Lj = 8e-9)\n",
    "case4.show_normal_mode(mode=1,quantity='current', Lj = 8e-9)\n"
   ]
  },
  {
   "cell_type": "code",
   "execution_count": 213,
   "id": "57dcab95",
   "metadata": {},
   "outputs": [
    {
     "name": "stdout",
     "output_type": "stream",
     "text": [
      "(-1.3237955039956282e-10+0j)\n",
      "(1.4326492340120445e-10+0j)\n"
     ]
    }
   ],
   "source": [
    "print(case4.components['Cc'].zpf(mode = 0, quantity = 'current',Lj = 8e-9))\n",
    "print(case4.components['Cc'].zpf(mode = 1, quantity = 'current',Lj = 8e-9))"
   ]
  },
  {
   "cell_type": "code",
   "execution_count": null,
   "id": "2d927f82",
   "metadata": {},
   "outputs": [],
   "source": []
  }
 ],
 "metadata": {
  "kernelspec": {
   "display_name": "Python 3",
   "language": "python",
   "name": "python3"
  },
  "language_info": {
   "codemirror_mode": {
    "name": "ipython",
    "version": 3
   },
   "file_extension": ".py",
   "mimetype": "text/x-python",
   "name": "python",
   "nbconvert_exporter": "python",
   "pygments_lexer": "ipython3",
   "version": "3.9.5"
  }
 },
 "nbformat": 4,
 "nbformat_minor": 5
}
